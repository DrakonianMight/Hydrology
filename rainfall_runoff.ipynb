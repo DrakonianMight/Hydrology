{
 "cells": [
  {
   "cell_type": "markdown",
   "metadata": {},
   "source": [
    "# Rainfall Runoff Equations"
   ]
  },
  {
   "cell_type": "markdown",
   "metadata": {},
   "source": [
    "## Simple Rainfall Depth Example (no loss)"
   ]
  },
  {
   "cell_type": "code",
   "execution_count": 109,
   "metadata": {},
   "outputs": [
    {
     "data": {
      "text/plain": [
       "5.0"
      ]
     },
     "execution_count": 109,
     "metadata": {},
     "output_type": "execute_result"
    }
   ],
   "source": [
    "Rainfall = 1 #Rainfall mm\n",
    "Rainfall = 1 / 1000 #convert mm to metres\n",
    "Area = 5000 #Area in metres2\n",
    "\n",
    "Discharge = Area*Rainfall\n",
    "Discharge"
   ]
  },
  {
   "cell_type": "markdown",
   "metadata": {},
   "source": [
    "## Initial Loss Proportional Runoff model"
   ]
  },
  {
   "cell_type": "markdown",
   "metadata": {},
   "source": [
    "**Initial Loss**\n",
    "\n",
    "$f_{eff} = f_{u} + \\frac{F_{t}}{F_{MAX}}$\n",
    "\n",
    "Where:\n",
    "\n",
    "$f_{u}$ = Fraction of the area that impervious\n",
    "\n",
    "$F_{t}$ = Cumulative infiltration into the pervious area after time\n",
    "\n",
    "$F_{max}$ = Is the maximum infiltration capacity\n",
    "\n",
    "**Proportional Loss**\n",
    "\n",
    "$R_{t} = f_{eff}C_{imp}R^{tot}_{t} + (1 - f_{eff})R_{t}^{per}$\n",
    "\n",
    "Where:\n",
    "\n",
    "$R_{t}$ = Excess rainfall\n",
    "\n",
    "$R^{tot}_{t}$ = Total Rainfall depth at time $t$\n",
    "\n",
    "$C_{imp}$ = Impervious Runoff coefficient (default = 1)\n",
    "\n",
    "$R_{t}^{per}$ = Pervious Excess Rainfall depth\n",
    "\n",
    "\n"
   ]
  },
  {
   "cell_type": "markdown",
   "metadata": {},
   "source": [
    "### Example"
   ]
  },
  {
   "cell_type": "code",
   "execution_count": 21,
   "metadata": {},
   "outputs": [],
   "source": [
    "fu = 0.0\n",
    "Ft = 0.0\n",
    "Fmax = 550\n",
    "#feff = fu + Ft/Fmax\n",
    "\n",
    "feff= 0"
   ]
  },
  {
   "cell_type": "code",
   "execution_count": 20,
   "metadata": {},
   "outputs": [
    {
     "data": {
      "text/plain": [
       "0.06"
      ]
     },
     "execution_count": 20,
     "metadata": {},
     "output_type": "execute_result"
    }
   ],
   "source": [
    "cimp = 1\n",
    "Rtot = Rainfall\n",
    "Rper = 0.06\n",
    "\n",
    "Rt = feff*cimp*Rtot + (1-feff)*Rper\n",
    "Rt"
   ]
  },
  {
   "cell_type": "markdown",
   "metadata": {},
   "source": [
    "## Rainfall Runoff to Hydrograph Example"
   ]
  },
  {
   "cell_type": "code",
   "execution_count": 205,
   "metadata": {},
   "outputs": [
    {
     "data": {
      "text/plain": [
       "<matplotlib.axes._subplots.AxesSubplot at 0x25c71415ac8>"
      ]
     },
     "execution_count": 205,
     "metadata": {},
     "output_type": "execute_result"
    },
    {
     "data": {
      "image/png": "[encoded data removed]",
      "text/plain": [
       "<Figure size 432x288 with 1 Axes>"
      ]
     },
     "metadata": {
      "needs_background": "light"
     },
     "output_type": "display_data"
    }
   ],
   "source": [
    "import pandas as pd\n",
    "Time = [.5,1,1.5,2.0,2.5,3.0,3.5,4.0,4.5,5.0,5.5,6]\n",
    "Rainfall = {'Rainfall':[4.1, 8.0,11.0,23.3, 15.3, 8.1, 7.0, 7.0, 5.1 ,6.1 ,3.1 , 1.9]}\n",
    "raindata = pd.DataFrame(Rainfall)\n",
    "raindata.index = Time\n",
    "raindata.plot.bar()"
   ]
  },
  {
   "cell_type": "markdown",
   "metadata": {},
   "source": [
    "Remove initial loss & Cumulative losses"
   ]
  },
  {
   "cell_type": "code",
   "execution_count": 206,
   "metadata": {},
   "outputs": [
    {
     "data": {
      "text/plain": [
       "<matplotlib.axes._subplots.AxesSubplot at 0x25c6fc81048>"
      ]
     },
     "execution_count": 206,
     "metadata": {},
     "output_type": "execute_result"
    },
    {
     "data": {
      "image/png": "[encoded data removed]",
      "text/plain": [
       "<Figure size 432x288 with 1 Axes>"
      ]
     },
     "metadata": {
      "needs_background": "light"
     },
     "output_type": "display_data"
    }
   ],
   "source": [
    "IL = 10\n",
    "CL = 2\n",
    "\n",
    "raindata['ex_rainfall'] = raindata.Rainfall\n",
    "raindata.ex_rainfall = raindata.ex_rainfall - CL\n",
    "raindata.ex_rainfall.iloc[0] = 0\n",
    "raindata.ex_rainfall.iloc[1] = 0\n",
    "raindata.plot.bar()"
   ]
  },
  {
   "cell_type": "markdown",
   "metadata": {},
   "source": [
    "**Estimate Hydrograph**\n",
    "\n",
    "Catchment  = $78.7km^{2}$"
   ]
  },
  {
   "cell_type": "code",
   "execution_count": 207,
   "metadata": {},
   "outputs": [
    {
     "data": {
      "text/plain": [
       "393.45627777777776"
      ]
     },
     "execution_count": 207,
     "metadata": {},
     "output_type": "execute_result"
    }
   ],
   "source": [
    "8.999/0.5*78.7\n",
    "\n",
    "(1/3600)*(0.001)*(10**6)*(8.999/0.5)*(78.7)"
   ]
  },
  {
   "cell_type": "code",
   "execution_count": 208,
   "metadata": {},
   "outputs": [
    {
     "data": {
      "text/html": [
       "<div>\n",
       "<style scoped>\n",
       "    .dataframe tbody tr th:only-of-type {\n",
       "        vertical-align: middle;\n",
       "    }\n",
       "\n",
       "    .dataframe tbody tr th {\n",
       "        vertical-align: top;\n",
       "    }\n",
       "\n",
       "    .dataframe thead th {\n",
       "        text-align: right;\n",
       "    }\n",
       "</style>\n",
       "<table border=\"1\" class=\"dataframe\">\n",
       "  <thead>\n",
       "    <tr style=\"text-align: right;\">\n",
       "      <th></th>\n",
       "      <th>Rainfall</th>\n",
       "      <th>ex_rainfall</th>\n",
       "      <th>ex_discharge</th>\n",
       "    </tr>\n",
       "  </thead>\n",
       "  <tbody>\n",
       "    <tr>\n",
       "      <th>0.5</th>\n",
       "      <td>4.1</td>\n",
       "      <td>0.0</td>\n",
       "      <td>NaN</td>\n",
       "    </tr>\n",
       "    <tr>\n",
       "      <th>1.0</th>\n",
       "      <td>8.0</td>\n",
       "      <td>0.0</td>\n",
       "      <td>0.000000</td>\n",
       "    </tr>\n",
       "    <tr>\n",
       "      <th>1.5</th>\n",
       "      <td>11.0</td>\n",
       "      <td>9.0</td>\n",
       "      <td>0.000000</td>\n",
       "    </tr>\n",
       "    <tr>\n",
       "      <th>2.0</th>\n",
       "      <td>23.3</td>\n",
       "      <td>21.3</td>\n",
       "      <td>393.500000</td>\n",
       "    </tr>\n",
       "    <tr>\n",
       "      <th>2.5</th>\n",
       "      <td>15.3</td>\n",
       "      <td>13.3</td>\n",
       "      <td>931.283333</td>\n",
       "    </tr>\n",
       "    <tr>\n",
       "      <th>3.0</th>\n",
       "      <td>8.1</td>\n",
       "      <td>6.1</td>\n",
       "      <td>581.505556</td>\n",
       "    </tr>\n",
       "    <tr>\n",
       "      <th>3.5</th>\n",
       "      <td>7.0</td>\n",
       "      <td>5.0</td>\n",
       "      <td>266.705556</td>\n",
       "    </tr>\n",
       "    <tr>\n",
       "      <th>4.0</th>\n",
       "      <td>7.0</td>\n",
       "      <td>5.0</td>\n",
       "      <td>218.611111</td>\n",
       "    </tr>\n",
       "    <tr>\n",
       "      <th>4.5</th>\n",
       "      <td>5.1</td>\n",
       "      <td>3.1</td>\n",
       "      <td>218.611111</td>\n",
       "    </tr>\n",
       "    <tr>\n",
       "      <th>5.0</th>\n",
       "      <td>6.1</td>\n",
       "      <td>4.1</td>\n",
       "      <td>135.538889</td>\n",
       "    </tr>\n",
       "    <tr>\n",
       "      <th>5.5</th>\n",
       "      <td>3.1</td>\n",
       "      <td>1.1</td>\n",
       "      <td>179.261111</td>\n",
       "    </tr>\n",
       "    <tr>\n",
       "      <th>6.0</th>\n",
       "      <td>1.9</td>\n",
       "      <td>-0.1</td>\n",
       "      <td>48.094444</td>\n",
       "    </tr>\n",
       "  </tbody>\n",
       "</table>\n",
       "</div>"
      ],
      "text/plain": [
       "     Rainfall  ex_rainfall  ex_discharge\n",
       "0.5       4.1          0.0           NaN\n",
       "1.0       8.0          0.0      0.000000\n",
       "1.5      11.0          9.0      0.000000\n",
       "2.0      23.3         21.3    393.500000\n",
       "2.5      15.3         13.3    931.283333\n",
       "3.0       8.1          6.1    581.505556\n",
       "3.5       7.0          5.0    266.705556\n",
       "4.0       7.0          5.0    218.611111\n",
       "4.5       5.1          3.1    218.611111\n",
       "5.0       6.1          4.1    135.538889\n",
       "5.5       3.1          1.1    179.261111\n",
       "6.0       1.9         -0.1     48.094444"
      ]
     },
     "execution_count": 208,
     "metadata": {},
     "output_type": "execute_result"
    }
   ],
   "source": [
    "discharge_L = []\n",
    "\n",
    "raindata['ex_discharge'] = (1/3600)*(0.001)*(10**6)*(raindata.ex_rainfall/0.5)*(78.7)\n",
    "#shift discharge as it is the end of the period\n",
    "raindata['ex_discharge']  = raindata['ex_discharge'].shift(1)\n",
    "raindata"
   ]
  },
  {
   "cell_type": "code",
   "execution_count": 209,
   "metadata": {},
   "outputs": [
    {
     "data": {
      "image/png": "[encoded data removed]",
      "text/plain": [
       "<Figure size 432x288 with 1 Axes>"
      ]
     },
     "metadata": {
      "needs_background": "light"
     },
     "output_type": "display_data"
    }
   ],
   "source": [
    "import matplotlib.pyplot as plt\n",
    "fig, ax = plt.subplots()\n",
    "\n",
    "ax = raindata['ex_rainfall'].plot.bar()\n",
    "ax = raindata['ex_discharge'].plot()"
   ]
  },
  {
   "cell_type": "code",
   "execution_count": 211,
   "metadata": {},
   "outputs": [
    {
     "data": {
      "image/png": "[encoded data removed]",
      "text/plain": [
       "<Figure size 432x288 with 2 Axes>"
      ]
     },
     "metadata": {
      "needs_background": "light"
     },
     "output_type": "display_data"
    }
   ],
   "source": [
    "import matplotlib.pyplot as plt\n",
    "from matplotlib import gridspec\n",
    "import numpy as np\n",
    " \n",
    "def plotHH(t,sP,sQ):\n",
    "    fig = plt.figure()\n",
    "    gs = gridspec.GridSpec(2, 1, height_ratios=[1, 2])\n",
    "     \n",
    "    # HYDROGRAM CHART\n",
    "    ax = plt.subplot(gs[1])\n",
    "    ax.plot(t,sQ)\n",
    "    ax.set_ylabel(u'Q(m³/s)', color='b')\n",
    "    ax.set_xlabel('Time (hrs)')\n",
    "    ax.tick_params(axis='y', colors='b')\n",
    "    ax.xaxis.grid(b=True, which='major', color='.7', linestyle='-')\n",
    "    ax.yaxis.grid(b=True, which='major', color='.7', linestyle='-')\n",
    "    ax.set_xlim(min(t), max(t))\n",
    "    #ax.set_ylim(0, max(sQ)*1.2)\n",
    " \n",
    "    # PRECIPITATION/HYETOGRAPH CHART\n",
    "    ax2 = plt.subplot(gs[0])\n",
    "    ax2.bar(t, sP, 1, color='#b0c4de')\n",
    "    ax2.xaxis.grid(b=True, which='major', color='.7', linestyle='-')\n",
    "    ax2.yaxis.grid(b=True, which='major', color='0.7', linestyle='-')\n",
    "    ax2.set_ylabel('P(mm)')\n",
    "    ax2.set_xlim(min(t), max(t))\n",
    "    plt.setp(ax2.get_xticklabels(), visible=False)\n",
    "     \n",
    "    plt.tight_layout()\n",
    "    ax2.invert_yaxis()\n",
    "    plt.gcf().subplots_adjust(bottom=0.15)\n",
    "    plt.show()\n",
    "plotHH(raindata.index.values, raindata.ex_rainfall.values, raindata.ex_discharge.values)"
   ]
  },
  {
   "cell_type": "markdown",
   "metadata": {},
   "source": [
    "## Linear Reservoir"
   ]
  },
  {
   "cell_type": "markdown",
   "metadata": {},
   "source": [
    "**Flow Equation**\n",
    "\n",
    "$Q = A.S, with units [L/T]$\n",
    "\n",
    "Where: $L$ is length (e.g. mm) and $T$ is time (e.g. h, day)\n",
    "\n",
    "* $Q$ is the runoff or discharge \n",
    "* $R$ is the effective rainfall or rainfall excess or recharge \n",
    "* $A$ is the constant reaction factor or response factor with unit [1/T] \n",
    "* $S$ is the water storage with unit [L] \n",
    "\n",
    "**Continuity water balance equation**\n",
    "\n",
    "$R = Q + dS/dT, with units [L/T]$\n",
    "\n",
    "* $dS$ is a differential or small increment of S\n",
    "* $dT$ is a differential or small increment of T\n",
    "\n",
    "**Runoff Equation**\n",
    "\n",
    "$Q2 = Q1 exp { −A (T2 − T1) } + R [ 1 − exp { −A (T2 − T1) } ]$\n",
    "\n",
    "This is the runoff equation or discharge equation, where Q1 and Q2 are the values of Q at time T1 and T2 respectively while T2−T1 is a small time step during which the recharge can be assumed constant."
   ]
  },
  {
   "cell_type": "markdown",
   "metadata": {},
   "source": [
    "### Example"
   ]
  },
  {
   "cell_type": "code",
   "execution_count": 4,
   "metadata": {},
   "outputs": [
    {
     "data": {
      "text/plain": [
       "10000.0"
      ]
     },
     "execution_count": 4,
     "metadata": {},
     "output_type": "execute_result"
    }
   ],
   "source": [
    "R = 1 #1mm\n",
    "S = 10000 #10000km\n",
    "D = 1 #day\n",
    "\n",
    "R*S/D"
   ]
  },
  {
   "cell_type": "markdown",
   "metadata": {},
   "source": [
    "## Rational Method"
   ]
  },
  {
   "cell_type": "markdown",
   "metadata": {},
   "source": [
    "Only valid for small catchments less than 30ha"
   ]
  },
  {
   "cell_type": "markdown",
   "metadata": {},
   "source": [
    "$Q = S_{T}FA$\n",
    "\n",
    "Where:\n",
    "\n",
    "$Q$ = Peak Flow\n",
    "\n",
    "$S_{T}$ = Soil factor (0.1 for very permiable, 1.3 impermiable)\n",
    "\n",
    "$F$ = factor (function of average slope)\n",
    "\n",
    "$A$ = Area of the catchment in ha"
   ]
  },
  {
   "cell_type": "markdown",
   "metadata": {},
   "source": [
    "## Unified River Basin Modelling System (URBS)"
   ]
  },
  {
   "cell_type": "markdown",
   "metadata": {},
   "source": [
    "**URBS Rainfall model**\n",
    "\n",
    "The model is designed to separate a catchment into subcatchments and define them.\n",
    "\n",
    "$Scatch  = \\left\\{\\frac{\\beta \\sqrt{k}A(1 + F) ^2}{(1 + U)^2}\\right\\} = Q^m$  \n",
    "\n",
    "\n",
    "Where:\n",
    "\n",
    "$Q$ = Outflow Discharge ($m^3$)\n",
    "\n",
    "$\\beta$ = Catchment Lag Parameter\n",
    "\n",
    "$A$ = Area of the sub catchment ($km^2$)\n",
    "\n",
    "$U$ = Fraction of the sub catchment urbanised\n",
    "\n",
    "$F$ = Fraction of the sub catchment forested\n",
    "\n",
    "$m$ = non-linearity parameter\n",
    "\n"
   ]
  },
  {
   "cell_type": "code",
   "execution_count": null,
   "metadata": {},
   "outputs": [],
   "source": []
  }
 ],
 "metadata": {
  "kernelspec": {
   "display_name": "Python 3",
   "language": "python",
   "name": "python3"
  },
  "language_info": {
   "codemirror_mode": {
    "name": "ipython",
    "version": 3
   },
   "file_extension": ".py",
   "mimetype": "text/x-python",
   "name": "python",
   "nbconvert_exporter": "python",
   "pygments_lexer": "ipython3",
   "version": "3.6.7"
  }
 },
 "nbformat": 4,
 "nbformat_minor": 2
}
